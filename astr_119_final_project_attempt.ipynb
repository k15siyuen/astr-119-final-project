{
 "cells": [
  {
   "cell_type": "code",
   "execution_count": null,
   "metadata": {},
   "outputs": [],
   "source": [
    "%matplotlib inline\n",
    "import numpy as np\n",
    "import matplotlib.pyplot as plt"
   ]
  },
  {
   "cell_type": "code",
   "execution_count": null,
   "metadata": {},
   "outputs": [],
   "source": [
    "N = 500\n",
    "\n",
    "a = 0\n",
    "b = 1.75\n",
    "def f(x):\n",
    "    return np.cos(x)"
   ]
  },
  {
   "cell_type": "code",
   "execution_count": null,
   "metadata": {},
   "outputs": [],
   "source": [
    "x = np.arange(a,b,0.01)\n",
    "y = f(x)\n",
    "d = max(y)\n",
    "c = min(y)\n",
    "\n",
    "x_rand = a + (b - a)*np.random.random(N)\n",
    "y_rand = np.random.random(N)*d"
   ]
  },
  {
   "cell_type": "code",
   "execution_count": null,
   "metadata": {
    "scrolled": true
   },
   "outputs": [],
   "source": [
    "ind_below = np.where(y_rand < f(x_rand))\n",
    "ind_above = np.where(y_rand >= f(x_rand))\n",
    "\n",
    "pts_below = plt.scatter(x_rand[ind_below], y_rand[ind_below], label = \"Dots below function\", color = \"green\")\n",
    "pts_above = plt.scatter(x_rand[ind_above], y_rand[ind_above], label = \"Dots above function\", color = \"blue\")\n",
    "plt.plot(x, y, label = \"Function\", color = \"red\")\n",
    "plt.legend(loc = 'lower left', ncol = 2)\n",
    "\n",
    "int_answer_1 = len((ind_below[0]))*((d-c)*(b-a))"
   ]
  },
  {
   "cell_type": "code",
   "execution_count": null,
   "metadata": {},
   "outputs": [],
   "source": [
    "print (\"Number of points above the function:\", len(ind_above[0]))\n",
    "print (\"Number of points below the function:\", len(ind_below[0]))\n",
    "print (\"N. below/N.total:\", len(ind_below[0])/N)\n",
    "\n",
    "print (\"Fraction of points below the function:\", int_answer_1)"
   ]
  },
  {
   "cell_type": "code",
   "execution_count": null,
   "metadata": {},
   "outputs": [],
   "source": [
    "N = 10000\n",
    "\n",
    "a2 = 0\n",
    "b2 = 1.75\n",
    "def f(x):\n",
    "    return np.cos(x)"
   ]
  },
  {
   "cell_type": "code",
   "execution_count": null,
   "metadata": {},
   "outputs": [],
   "source": [
    "x = np.arange(a2,b2,0.01)\n",
    "y = f(x)\n",
    "d2 = max(y)\n",
    "c2 = min(y)\n",
    "\n",
    "x_rand = a2 + (b2 - a2)*np.random.random(N)\n",
    "y_rand = np.random.random(N)*d2"
   ]
  },
  {
   "cell_type": "code",
   "execution_count": null,
   "metadata": {},
   "outputs": [],
   "source": [
    "ind_below = np.where(y_rand < f(x_rand))\n",
    "ind_above = np.where(y_rand >= f(x_rand))\n",
    "\n",
    "pts_below = plt.scatter(x_rand[ind_below], y_rand[ind_below], label = \"Dots below function\", color = \"green\")\n",
    "pts_above = plt.scatter(x_rand[ind_above], y_rand[ind_above], label = \"Dots above function\", color = \"blue\")\n",
    "plt.plot(x, y, label = \"Function\", color = \"red\")\n",
    "plt.legend(loc = 'lower left', ncol = 2)\n",
    "\n",
    "int_answer_2 = len((ind_below[0]))*((d2-c2)*(b2-a2))"
   ]
  },
  {
   "cell_type": "code",
   "execution_count": null,
   "metadata": {},
   "outputs": [],
   "source": [
    "print (\"Number of points above the function:\", len(ind_above[0]))\n",
    "print (\"Number of points below the function:\", len(ind_below[0]))\n",
    "\n",
    "print (\"Fraction of points below the function:\", int_answer_2)"
   ]
  },
  {
   "cell_type": "code",
   "execution_count": null,
   "metadata": {},
   "outputs": [],
   "source": [
    "tolerance = int_answer_2 - int_answer_1\n",
    "\n",
    "print(tolerance)"
   ]
  },
  {
   "cell_type": "code",
   "execution_count": null,
   "metadata": {},
   "outputs": [],
   "source": []
  },
  {
   "cell_type": "code",
   "execution_count": null,
   "metadata": {},
   "outputs": [],
   "source": []
  }
 ],
 "metadata": {
  "kernelspec": {
   "display_name": "Python 3",
   "language": "python",
   "name": "python3"
  },
  "language_info": {
   "codemirror_mode": {
    "name": "ipython",
    "version": 3
   },
   "file_extension": ".py",
   "mimetype": "text/x-python",
   "name": "python",
   "nbconvert_exporter": "python",
   "pygments_lexer": "ipython3",
   "version": "3.7.0"
  }
 },
 "nbformat": 4,
 "nbformat_minor": 2
}
