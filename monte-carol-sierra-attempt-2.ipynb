{
 "cells": [
  {
   "cell_type": "code",
   "execution_count": 5,
   "metadata": {},
   "outputs": [],
   "source": [
    "%matplotlib inline\n",
    "import numpy as np\n",
    "import matplotlib.pyplot as plt"
   ]
  },
  {
   "cell_type": "code",
   "execution_count": 18,
   "metadata": {},
   "outputs": [],
   "source": [
    "def integral_show(f, x0, x1, N):\n",
    "\n",
    "    #We will approximate the integral of f(x)dx between x0 and x1 using N random points\n",
    "    #f = function of one real variable; it must be non-negative on [x0,x1]\n",
    "    #N = the number of random points to use\n",
    " \n",
    "    #First, compute f_max by evaluating f(x) on a grid of points between x0 and x1\n",
    "    x = np.arange(x0, x1, 0.01)\n",
    "    y = f(x)\n",
    "    f_max = max(y)\n",
    "    \n",
    "    #Then, generate the random points\n",
    "    x_rand = x0 + np.random.random(N)*(x1-x0)\n",
    "    y_rand = 0 +  np.random.random(N)*f_max\n",
    "    \n",
    "    #Next, find the indices of the points above and below the curve\n",
    "    ind_below = np.where(y_rand < f(x_rand))\n",
    "    ind_above = np.where(y_rand >= f(x_rand))\n",
    "\n",
    "    \n",
    "    #Finally, display the results\n",
    "    plt.plot(x, y, color = \"blue\")\n",
    "    plt.scatter(x_rand[ind_below], y_rand[ind_below], color = \"red\")\n",
    "    plt.scatter(x_rand[ind_above], y_rand[ind_above], color = \"yellow\")\n",
    "    plt.legend((pts_below, pts_above),\n",
    "           ('Pts below the curve', 'Pts above the curve'), loc='lower left', ncol=3, fontsize=8)\n",
    "    \n",
    "    print(\"Number of points above the curve:\", len(ind_above[0]))\n",
    "    print(\"Number of points below the curve:\", len(ind_below[0]))\n",
    "    print(\"N below/N total:\", len(ind_below[0])/N)\n",
    "    print(\"Rectangle area:\", f_max*(x1-x0))\n",
    "    print(\"Area under the curve:\", f_max*(x1-x0)*len(ind_below[0])/N)"
   ]
  },
  {
   "cell_type": "code",
   "execution_count": 19,
   "metadata": {},
   "outputs": [],
   "source": [
    "def f1(x):\n",
    "    return np.cos(x)"
   ]
  },
  {
   "cell_type": "code",
   "execution_count": 20,
   "metadata": {},
   "outputs": [
    {
     "ename": "NameError",
     "evalue": "name 'pts_below' is not defined",
     "output_type": "error",
     "traceback": [
      "\u001b[0;31m---------------------------------------------------------------------------\u001b[0m",
      "\u001b[0;31mNameError\u001b[0m                                 Traceback (most recent call last)",
      "\u001b[0;32m<ipython-input-20-cd8f9023f45b>\u001b[0m in \u001b[0;36m<module>\u001b[0;34m()\u001b[0m\n\u001b[0;32m----> 1\u001b[0;31m \u001b[0mintegral_show\u001b[0m\u001b[0;34m(\u001b[0m\u001b[0mf1\u001b[0m\u001b[0;34m,\u001b[0m \u001b[0;36m0\u001b[0m\u001b[0;34m,\u001b[0m \u001b[0;36m1\u001b[0m\u001b[0;34m,\u001b[0m \u001b[0;36m200\u001b[0m\u001b[0;34m)\u001b[0m\u001b[0;34m\u001b[0m\u001b[0m\n\u001b[0m",
      "\u001b[0;32m<ipython-input-18-ec6e0d60c905>\u001b[0m in \u001b[0;36mintegral_show\u001b[0;34m(f, x0, x1, N)\u001b[0m\n\u001b[1;32m     18\u001b[0m     \u001b[0mind_above\u001b[0m \u001b[0;34m=\u001b[0m \u001b[0mnp\u001b[0m\u001b[0;34m.\u001b[0m\u001b[0mwhere\u001b[0m\u001b[0;34m(\u001b[0m\u001b[0my_rand\u001b[0m \u001b[0;34m>=\u001b[0m \u001b[0mf\u001b[0m\u001b[0;34m(\u001b[0m\u001b[0mx_rand\u001b[0m\u001b[0;34m)\u001b[0m\u001b[0;34m)\u001b[0m\u001b[0;34m\u001b[0m\u001b[0m\n\u001b[1;32m     19\u001b[0m \u001b[0;34m\u001b[0m\u001b[0m\n\u001b[0;32m---> 20\u001b[0;31m     \u001b[0mind_below\u001b[0m \u001b[0;34m=\u001b[0m \u001b[0mpts_below\u001b[0m\u001b[0;34m\u001b[0m\u001b[0m\n\u001b[0m\u001b[1;32m     21\u001b[0m     \u001b[0mind_above\u001b[0m \u001b[0;34m=\u001b[0m \u001b[0mpts_above\u001b[0m\u001b[0;34m\u001b[0m\u001b[0m\n\u001b[1;32m     22\u001b[0m \u001b[0;34m\u001b[0m\u001b[0m\n",
      "\u001b[0;31mNameError\u001b[0m: name 'pts_below' is not defined"
     ]
    }
   ],
   "source": [
    "integral_show(f1, 0, 1, 200)"
   ]
  },
  {
   "cell_type": "code",
   "execution_count": null,
   "metadata": {},
   "outputs": [],
   "source": []
  }
 ],
 "metadata": {
  "kernelspec": {
   "display_name": "Python 3",
   "language": "python",
   "name": "python3"
  },
  "language_info": {
   "codemirror_mode": {
    "name": "ipython",
    "version": 3
   },
   "file_extension": ".py",
   "mimetype": "text/x-python",
   "name": "python",
   "nbconvert_exporter": "python",
   "pygments_lexer": "ipython3",
   "version": "3.7.0"
  }
 },
 "nbformat": 4,
 "nbformat_minor": 2
}
