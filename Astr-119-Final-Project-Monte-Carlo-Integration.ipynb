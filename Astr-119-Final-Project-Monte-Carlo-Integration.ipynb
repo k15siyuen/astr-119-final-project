{
 "cells": [
  {
   "cell_type": "code",
   "execution_count": null,
   "metadata": {},
   "outputs": [],
   "source": [
    "%matplotlib inline\n",
    "import numpy as np\n",
    "import matplotlib.pyplot as plt"
   ]
  },
  {
   "cell_type": "code",
   "execution_count": null,
   "metadata": {},
   "outputs": [],
   "source": [
    "N = 500\n",
    "\n",
    "a = 0\n",
    "b = 1.75\n",
    "def f(x):\n",
    "    return np.cos(x)\n",
    "\n",
    "x = np.arange(a,b,0.01)\n",
    "y = f(x)\n",
    "fmax = max(y)\n",
    "x_rand = a + (b - a)*np.random.random(N)\n",
    "y_rand = np.random.random(N)*fmax\n",
    "\n",
    "\n",
    "ind_below = np.where(y_rand < f(x_rand))\n",
    "ind_above = np.where(y_rand >= f(x_rand))\n",
    "\n",
    "pts_below = plt.scatter(x_rand[ind_below], y_rand[ind_below], color = \"green\")\n",
    "pts_above = plt.scatter(x_rand[ind_above], y_rand[ind_above], color = \"blue\")\n",
    "plt.plot(x, y, color = \"red\")\n",
    "\n",
    "plt.legend((pts_below, pts_above, f(x)),\n",
    "           ('Pts below the curve', 'Pts above the curve', 'function'), loc='lower right', ncol=3, fontsize=8)\n"
   ]
  },
  {
   "cell_type": "code",
   "execution_count": null,
   "metadata": {},
   "outputs": [],
   "source": []
  }
 ],
 "metadata": {
  "kernelspec": {
   "display_name": "Python 3",
   "language": "python",
   "name": "python3"
  }
 },
 "nbformat": 4,
 "nbformat_minor": 2
}
