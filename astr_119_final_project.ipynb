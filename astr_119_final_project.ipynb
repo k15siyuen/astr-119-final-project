{
 "cells": [
  {
   "cell_type": "markdown",
   "metadata": {},
   "source": [
    "## Compute a Monte Carlo integral for any specified function."
   ]
  },
  {
   "cell_type": "code",
   "execution_count": null,
   "metadata": {},
   "outputs": [],
   "source": [
    "%matplotlib inline\n",
    "import numpy as np\n",
    "import matplotlib.pyplot as plt\n",
    "import math"
   ]
  },
  {
   "cell_type": "markdown",
   "metadata": {},
   "source": [
    "Riofa-Gean Fernandez  ID: 1396498"
   ]
  },
  {
   "cell_type": "code",
   "execution_count": null,
   "metadata": {},
   "outputs": [],
   "source": [
    "N = 500   # Number of points\n",
    "\n",
    "a = 0     #x-axis min to replace\n",
    "b = 1.75  #x-axis max to replace\n",
    "def f(x):\n",
    "    return np.cos(x)  #function to replace"
   ]
  },
  {
   "cell_type": "code",
   "execution_count": null,
   "metadata": {},
   "outputs": [],
   "source": [
    "x = np.arange(a,b,0.01)   #(start, stop, step interval)\n",
    "y = f(x)   #function\n",
    "d = max(y) #y-axis maximum\n",
    "c = min(y) #y-axis minimum\n",
    "\n",
    "#compute the number of random points\n",
    "x_rand = a + (b - a)*np.random.random(N) \n",
    "y_rand = np.random.random(N)*d"
   ]
  },
  {
   "cell_type": "code",
   "execution_count": null,
   "metadata": {
    "scrolled": true
   },
   "outputs": [],
   "source": [
    "ind_below = np.where(y_rand < f(x_rand))  #points below the function\n",
    "ind_above = np.where(y_rand >= f(x_rand)) #points above the function\n",
    "\n",
    "#plot the function\n",
    "pts_below = plt.scatter(x_rand[ind_below], y_rand[ind_below], label = \"Points below function\", color = \"green\")\n",
    "pts_above = plt.scatter(x_rand[ind_above], y_rand[ind_above], label = \"Points above function\", color = \"blue\")\n",
    "plt.plot(x, y, label = \"Function\", color = \"red\")\n",
    "plt.legend(loc = 'lower center', ncol = 2)\n",
    "\n",
    "int_answer_1 = len(ind_below[0])/(N)*((b-a)*(d-c)) #first integral estimate (By R. Fernandez and S. Yuen)"
   ]
  },
  {
   "cell_type": "code",
   "execution_count": null,
   "metadata": {},
   "outputs": [],
   "source": [
    "#print the answer\n",
    "\n",
    "print (\"Number of points above the function:\", len(ind_above[0]))\n",
    "print (\"Number of points below the function:\", len(ind_below[0]))\n",
    "\n",
    "print (\"Fraction of points below the function:\", int_answer_1)  #By S. Yuen"
   ]
  },
  {
   "cell_type": "markdown",
   "metadata": {},
   "source": [
    "Sierra Yuen  ID: 1495259"
   ]
  },
  {
   "cell_type": "code",
   "execution_count": null,
   "metadata": {},
   "outputs": [],
   "source": [
    "N = 10000  #number of points\n",
    "\n",
    "a2 = 0     #x-axis minimum\n",
    "b2 = 1.75  #x-axis maximum\n",
    "def f(x):\n",
    "    return np.cos(x) #function to replace"
   ]
  },
  {
   "cell_type": "code",
   "execution_count": null,
   "metadata": {},
   "outputs": [],
   "source": [
    "x = np.arange(a2,b2,0.01) #(start,stop,step interval)\n",
    "y = f(x)    #function\n",
    "d2 = max(y) #y-axis maximum\n",
    "c2 = min(y) #y-axis minimum\n",
    "\n",
    "#compute the number of random points\n",
    "x_rand = a2 + (b2 - a2)*np.random.random(N)\n",
    "y_rand = np.random.random(N)*d2"
   ]
  },
  {
   "cell_type": "code",
   "execution_count": null,
   "metadata": {},
   "outputs": [],
   "source": [
    "ind_below = np.where(y_rand < f(x_rand))  #points below the function\n",
    "ind_above = np.where(y_rand >= f(x_rand)) #points above the function\n",
    "\n",
    "#plot the function\n",
    "pts_below = plt.scatter(x_rand[ind_below], y_rand[ind_below], label = \"Dots below function\", color = \"green\")\n",
    "pts_above = plt.scatter(x_rand[ind_above], y_rand[ind_above], label = \"Dots above function\", color = \"blue\")\n",
    "plt.plot(x, y, label = \"Function\", color = \"red\")\n",
    "plt.legend(loc = 'lower center', ncol = 2)\n",
    "\n",
    "int_answer_2 = len(ind_below[0])/(N)*((b2-a2)*(d2-c2)) #second integral estimate (By R. Fernandez and S. Yuen)"
   ]
  },
  {
   "cell_type": "code",
   "execution_count": null,
   "metadata": {},
   "outputs": [],
   "source": [
    "#print the answer\n",
    "\n",
    "print (\"Number of points above the function:\", len(ind_above[0]))\n",
    "print (\"Number of points below the function:\", len(ind_below[0]))\n",
    "\n",
    "print (\"Fraction of points below the function:\", int_answer_2)"
   ]
  },
  {
   "cell_type": "code",
   "execution_count": null,
   "metadata": {},
   "outputs": [],
   "source": [
    "#specify a tolerance for the integration\n",
    "\n",
    "tolerance = int_answer_2 - int_answer_1\n",
    "\n",
    "#print the tolerance\n",
    "\n",
    "print(tolerance)"
   ]
  },
  {
   "cell_type": "code",
   "execution_count": null,
   "metadata": {},
   "outputs": [],
   "source": []
  }
 ],
 "metadata": {
  "kernelspec": {
   "display_name": "Python 3",
   "language": "python",
   "name": "python3"
  },
  "language_info": {
   "codemirror_mode": {
    "name": "ipython",
    "version": 3
   },
   "file_extension": ".py",
   "mimetype": "text/x-python",
   "name": "python",
   "nbconvert_exporter": "python",
   "pygments_lexer": "ipython3",
   "version": "3.7.0"
  }
 },
 "nbformat": 4,
 "nbformat_minor": 2
}
